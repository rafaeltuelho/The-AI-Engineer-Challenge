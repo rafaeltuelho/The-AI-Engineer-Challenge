{
 "cells": [
  {
   "cell_type": "markdown",
   "id": "b1a2722c",
   "metadata": {},
   "source": [
    "# Document Conversion"
   ]
  },
  {
   "cell_type": "markdown",
   "id": "ed887419",
   "metadata": {},
   "source": [
    "## Process a PDF"
   ]
  },
  {
   "cell_type": "code",
   "execution_count": 3,
   "id": "4c03ec36",
   "metadata": {},
   "outputs": [
    {
     "name": "stdout",
     "output_type": "stream",
     "text": [
      "Processing PDF document: test.pdf (1.3MB)\n",
      "Extracted text length: 3156 characters\n",
      "Created 11 chunks\n",
      "first 5 chunks: (['Notes Arithmetic and Geometric Sequences Day 2 Explicit Formula: ______________ ______𝑎1 𝑎2_𝑎3 Arithmetic Sequences The explicit formula for the arithmetic sequence is: a n = a 1 + ( n - 1 ) d Example 1: Write the general formula for the sequence 2, -3, -8, -13, ….? general formula: _____ + ( n - 1 ) ____𝑎𝑛= a 1 d Now, find _____ + (___ - 1 ) ____ =_______𝑎14=𝑎14 1) Identify arithmetic, geometric, or neither. _____________________ 2) Find the common difference, or common ratio if there is one. ____________ 3) Plug into the formula. Example 2: Write the general formula for the sequence -.5, 2.5, 5.5, 8.5…? general formula: _____ + ( n - 1 ) ____𝑎𝑛= a 1 d Now, find _____ + (___ - 1 ) ____ =_______𝑎50=𝑎50 1) Identify arithmetic, geometric, or neither. _____________________ 2) Find the common difference, or common ratio if there is one. ____________ 3)Plug into the formula. Geometric Sequences The explicit formula for the geometric sequence is: 𝑎𝑛=𝑎1 (𝑟) 𝑛−1 Example 1: Write the general formula for the sequence 20, 21, 22.05, 23.1525… general formula: _____𝑔𝑛=( )𝑛−1 g 1 r Now, find _____ =_______𝑎15=( )( )−1 𝑔15 1) Identify arithmetic, geometric, or neither. _____________________ 2) Find the common difference, or common ratio if there is one. ____________ 3) Plug into the formula. Example 2: Write the general formula for the sequence 4, 2, 1, .5… general formula: _____𝑔𝑛=( )𝑛−1 g 1 r Now, find _____ =_______𝑔9=( )( )−1 𝑔9 1) Identify arithmetic, geometric, or neither. _____________________ 2) Find the common difference, or common ratio if there is one. ____________ 3) Plug into the formula. Arithmetic and Geometric Sequence Application: For each of the problems below: A. Identify whether the pattern is arithmetic or geometric. B. Write the recursive and explicit formula for each. C. Solve as directed, using the explicit formula. 1. An auditorium has 20 seats on the first row, 24 seats on the second row, 28 seats on the third row, and so on. The theatre has 30 total rows. How many seats are in the 30th row? A. B. recursive: explicit: C. 2. The deer population in an area is increasing. The first year measured, the population was 2537. The rate of growth is 1.025. Assuming that the population increases at the same rate for the next few years, write a formula where the n is the number of years since year 1. Then, find the expected deer population for the tenth year. A. B. recursive: explicit:', 'row, 28 seats on the third row, and so on. The theatre has 30 total rows. How many seats are in the 30th row? A. B. recursive: explicit: C. 2. The deer population in an area is increasing. The first year measured, the population was 2537. The rate of growth is 1.025. Assuming that the population increases at the same rate for the next few years, write a formula where the n is the number of years since year 1. Then, find the expected deer population for the tenth year. A. B. recursive: explicit: C. 3. A test showed that after the first hour of receiving a medication, 100 milligrams remained in the body. Continued tests show that the dose found in the body halved every hour after the first hour. How much medicine is left in the body after 3 hours? A. B. recursive: explicit: C. 4. At the end of year 1, the population of a city was measured to be 378,000. Every year thereafter, it decreased by 23,000 individuals. How many people will be in the city in 12 years? A. B. recursive: explicit: C. 5. What is the 23rd term of the sequence of if the 21st term is 95.8?𝑎𝑛=𝑎𝑛−1+2.3, 6. What is the 19th term of the sequence - , if ?𝑔𝑛=𝑔𝑛−1·12𝑔17=162', ': explicit: C. 4. At the end of year 1, the population of a city was measured to be 378,000. Every year thereafter, it decreased by 23,000 individuals. How many people will be in the city in 12 years? A. B. recursive: explicit: C. 5. What is the 23rd term of the sequence of if the 21st term is 95.8?𝑎𝑛=𝑎𝑛−1+2.3, 6. What is the 19th term of the sequence - , if ?𝑔𝑛=𝑔𝑛−1·12𝑔17=162', ': explicit: C. 4. At the end of year 1, the population of a city was measured to be 378,000. Every year thereafter, it decreased by 23,000 individuals. How many people will be in the city in 12 years? A. B. recursive: explicit: C. 5. What is the 23rd term of the sequence of if the 21st term is 95.8?𝑎𝑛=𝑎𝑛−1+2.3, 6. What is the 19th term of the sequence - , if ?𝑔𝑛=𝑔𝑛−1·12𝑔17=162', ': explicit: C. 4. At the end of year 1, the population of a city was measured to be 378,000. Every year thereafter, it decreased by 23,000 individuals. How many people will be in the city in 12 years? A. B. recursive: explicit: C. 5. What is the 23rd term of the sequence of if the 21st term is 95.8?𝑎𝑛=𝑎𝑛−1+2.3, 6. What is the 19th term of the sequence - , if ?𝑔𝑛=𝑔𝑛−1·12𝑔17=162', ': explicit: C. 4. At the end of year 1, the population of a city was measured to be 378,000. Every year thereafter, it decreased by 23,000 individuals. How many people will be in the city in 12 years? A. B. recursive: explicit: C. 5. What is the 23rd term of the sequence of if the 21st term is 95.8?𝑎𝑛=𝑎𝑛−1+2.3, 6. What is the 19th term of the sequence - , if ?𝑔𝑛=𝑔𝑛−1·12𝑔17=162', ': explicit: C. 4. At the end of year 1, the population of a city was measured to be 378,000. Every year thereafter, it decreased by 23,000 individuals. How many people will be in the city in 12 years? A. B. recursive: explicit: C. 5. What is the 23rd term of the sequence of if the 21st term is 95.8?𝑎𝑛=𝑎𝑛−1+2.3, 6. What is the 19th term of the sequence - , if ?𝑔𝑛=𝑔𝑛−1·12𝑔17=162', ': explicit: C. 4. At the end of year 1, the population of a city was measured to be 378,000. Every year thereafter, it decreased by 23,000 individuals. How many people will be in the city in 12 years? A. B. recursive: explicit: C. 5. What is the 23rd term of the sequence of if the 21st term is 95.8?𝑎𝑛=𝑎𝑛−1+2.3, 6. What is the 19th term of the sequence - , if ?𝑔𝑛=𝑔𝑛−1·12𝑔17=162', ': explicit: C. 4. At the end of year 1, the population of a city was measured to be 378,000. Every year thereafter, it decreased by 23,000 individuals. How many people will be in the city in 12 years? A. B. recursive: explicit: C. 5. What is the 23rd term of the sequence of if the 21st term is 95.8?𝑎𝑛=𝑎𝑛−1+2.3, 6. What is the 19th term of the sequence - , if ?𝑔𝑛=𝑔𝑛−1·12𝑔17=162', ': explicit: C. 4. At the end of year 1, the population of a city was measured to be 378,000. Every year thereafter, it decreased by 23,000 individuals. How many people will be in the city in 12 years? A. B. recursive: explicit: C. 5. What is the 23rd term of the sequence of if the 21st term is 95.8?𝑎𝑛=𝑎𝑛−1+2.3, 6. What is the 19th term of the sequence - , if ?𝑔𝑛=𝑔𝑛−1·12𝑔17=162', ': explicit: C. 4. At the end of year 1, the population of a city was measured to be 378,000. Every year thereafter, it decreased by 23,000 individuals. How many people will be in the city in 12 years? A. B. recursive: explicit: C. 5. What is the 23rd term of the sequence of if the 21st term is 95.8?𝑎𝑛=𝑎𝑛−1+2.3, 6. What is the 19th term of the sequence - , if ?𝑔𝑛=𝑔𝑛−1·12𝑔17=162'],)\n",
      "metadata: {'file_path': '.data/test.pdf', 'file_name': 'test.pdf', 'file_type': 'pdf', 'file_size': 1355417, 'processing_method': 'lightweight_pdf'}\n",
      "chunk_count: (11,)\n",
      "file_name: test.pdf\n"
     ]
    }
   ],
   "source": [
    "from api.rag_lightweight import DocumentProcessor\n",
    "PDF_FILE_PATH = \".data/test.pdf\"\n",
    "\n",
    "try:\n",
    "    # Process PDF using docling\n",
    "    pdf_processor = DocumentProcessor()\n",
    "    processed_data = pdf_processor.process_pdf(PDF_FILE_PATH)\n",
    "    \n",
    "    chunks=processed_data[\"chunks\"],\n",
    "    metadata=processed_data[\"metadata\"]\n",
    "    chunk_count=processed_data[\"chunk_count\"],\n",
    "    file_name=processed_data[\"metadata\"][\"file_name\"]\n",
    "    print(f\"first 5 chunks: {chunks[:5]}\")\n",
    "    print(f\"metadata: {metadata}\")\n",
    "    print(f\"chunk_count: {chunk_count}\")\n",
    "    print(f\"file_name: {file_name}\")\n",
    "    \n",
    "except Exception as e:\n",
    "    print(f\"Error in PDF upload: {str(e)}\")"
   ]
  },
  {
   "cell_type": "markdown",
   "id": "19e7012f",
   "metadata": {},
   "source": [
    "## Process a PPT"
   ]
  },
  {
   "cell_type": "code",
   "execution_count": 5,
   "id": "beba23b1",
   "metadata": {},
   "outputs": [
    {
     "name": "stdout",
     "output_type": "stream",
     "text": [
      "Processing PPTX document: French and Indian War.pptx (10.8MB)\n",
      "Extracted text length: 4482 characters\n",
      "Created 11 chunks\n",
      "first 5 chunks: ([\"Slide 1: FRENCH AND INDIAN WAR 1754-1763 Slide 2: BAckground European countries were constantly fighting European countries tried to control as much land as possible Triangle of Hatred-England, France, and Spain Slide 3: Secret of Success more land more trade +more gold more wealth & more power Mercantilism Slide 4: The Colonies Prior to the 1750s the colonies and Great Britian really didn’t interact to much except for trading purposes This is called Solatary Neglect Solatary Neglect-Great Britian left the colonies alone and didn’t pay to much attention to the way they were governing themselves, as long as they were making Great Britian money Slide 5: Colonial land Grab During this time, colonists “bumped” into each other Colonists explored each other’s land Colonists claimed each other’s land Native Americans were always caught in the middle of this land grab GET OFF MY LAND!! Slide 6: The Beginning French forts in the Ohio River Valley angered the British; they believed they were to close to their land Slide 7: The French Irritation In the 1750s, France started building forts around the Great Lakes and into the Ohio River Valley French had better trading relations with the Indians than the English did... especially in the fur trade France controlled land from the St. Lawrence River (north) to New Orleans (south), and now they wanted to control western Pennsylvania Slide 8: Washington's 1st Command Virginia claimed parts of western , Pennsylvania too George Washington was a wealthy plantation owner and a member of the Virginia militia (militia: a volunteer army with no military training) Virginia's Governor sent Washington and the militia to Pennsylvania to build a road through the mountains The road from Virginia to Pennsylvania would help claim the land for Virginia Slide 9: Washington’s 1st Command Washington ordered the French to leave in May 1754 This caused a small skirmish between the French and the Virginia militia The Virginia militia accidentally killed a French Ambassador by mistake The French outnumbered the Virginia militia, and they were forced to retreat Washington built Fort Necessity in Pennsylvania to strengthen their claim on the land French forces captured Washington and sent him back to Virginia Slide 10: Albany Plan Benjamin Franklin published this cartoon in 1754, urging colonies ot unite for defense against the French 7 Colonies sent representatives to Albany, NY to devise a common government Not one colony approved the “Albany Plan” Slide 11: Britain Declares War Britain declared war on France, beginning the Seven Years’ War. We call it the French and Indian War because we fought the French and Indians It was a “world war”...French, British, and Spanish forces clashed in Cuba, the West Indies, India, the Philippines, as well as North America and Europe The early years of the war were disastrous for the British and the British 13 Colonies Slide 12: War Continues British performance improved after William Pitt became Secretary of State and then Prime Minister Pitt wanted Britain to win the war no matter the cost; Britain went deep into debt Pitt sent some of Britain’s best generals, troops, and naval squadrons to the colonies Overwhelming British strength won the war Slide 13: The Treaty of Paris 1763 Signed in Paris, France in 1763 France gave Canada its lands east of the Mississippi River to Great Britain France gave its lands west of the Mississippi River to Spain Slide 14: Results of the War British: acquired more land became a world-wide SUPER POWER grew resentful of colonial blundering and the cost of defending the colonies Slide 15: Results of the War French: lost almost all land in North America no longer important in American development Native Americans: continued to lose control over land in North America Slide 16: Before & After the French and Indian War Slide 17: Results of the war Colonists: acquired land to expand gained valuable military experience found their first “American” hero...George Washington learned how to cooperate Began to think of themselves as “Americans” and different than Great Britain Slide 18: Proclamation of 1763 King George III declared that the Appalachian Mountains were the western boundary for all colonies; colonists could not cross the mountains: separate the colonists from the Indians to prevent future wars and expenses Proclamation ANGERED colonist Slide 19: Proclamation of 1763\", 'world-wide SUPER POWER grew resentful of colonial blundering and the cost of defending the colonies Slide 15: Results of the War French: lost almost all land in North America no longer important in American development Native Americans: continued to lose control over land in North America Slide 16: Before & After the French and Indian War Slide 17: Results of the war Colonists: acquired land to expand gained valuable military experience found their first “American” hero...George Washington learned how to cooperate Began to think of themselves as “Americans” and different than Great Britain Slide 18: Proclamation of 1763 King George III declared that the Appalachian Mountains were the western boundary for all colonies; colonists could not cross the mountains: separate the colonists from the Indians to prevent future wars and expenses Proclamation ANGERED colonist Slide 19: Proclamation of 1763', 'world-wide SUPER POWER grew resentful of colonial blundering and the cost of defending the colonies Slide 15: Results of the War French: lost almost all land in North America no longer important in American development Native Americans: continued to lose control over land in North America Slide 16: Before & After the French and Indian War Slide 17: Results of the war Colonists: acquired land to expand gained valuable military experience found their first “American” hero...George Washington learned how to cooperate Began to think of themselves as “Americans” and different than Great Britain Slide 18: Proclamation of 1763 King George III declared that the Appalachian Mountains were the western boundary for all colonies; colonists could not cross the mountains: separate the colonists from the Indians to prevent future wars and expenses Proclamation ANGERED colonist Slide 19: Proclamation of 1763', 'world-wide SUPER POWER grew resentful of colonial blundering and the cost of defending the colonies Slide 15: Results of the War French: lost almost all land in North America no longer important in American development Native Americans: continued to lose control over land in North America Slide 16: Before & After the French and Indian War Slide 17: Results of the war Colonists: acquired land to expand gained valuable military experience found their first “American” hero...George Washington learned how to cooperate Began to think of themselves as “Americans” and different than Great Britain Slide 18: Proclamation of 1763 King George III declared that the Appalachian Mountains were the western boundary for all colonies; colonists could not cross the mountains: separate the colonists from the Indians to prevent future wars and expenses Proclamation ANGERED colonist Slide 19: Proclamation of 1763', 'world-wide SUPER POWER grew resentful of colonial blundering and the cost of defending the colonies Slide 15: Results of the War French: lost almost all land in North America no longer important in American development Native Americans: continued to lose control over land in North America Slide 16: Before & After the French and Indian War Slide 17: Results of the war Colonists: acquired land to expand gained valuable military experience found their first “American” hero...George Washington learned how to cooperate Began to think of themselves as “Americans” and different than Great Britain Slide 18: Proclamation of 1763 King George III declared that the Appalachian Mountains were the western boundary for all colonies; colonists could not cross the mountains: separate the colonists from the Indians to prevent future wars and expenses Proclamation ANGERED colonist Slide 19: Proclamation of 1763', 'world-wide SUPER POWER grew resentful of colonial blundering and the cost of defending the colonies Slide 15: Results of the War French: lost almost all land in North America no longer important in American development Native Americans: continued to lose control over land in North America Slide 16: Before & After the French and Indian War Slide 17: Results of the war Colonists: acquired land to expand gained valuable military experience found their first “American” hero...George Washington learned how to cooperate Began to think of themselves as “Americans” and different than Great Britain Slide 18: Proclamation of 1763 King George III declared that the Appalachian Mountains were the western boundary for all colonies; colonists could not cross the mountains: separate the colonists from the Indians to prevent future wars and expenses Proclamation ANGERED colonist Slide 19: Proclamation of 1763', 'world-wide SUPER POWER grew resentful of colonial blundering and the cost of defending the colonies Slide 15: Results of the War French: lost almost all land in North America no longer important in American development Native Americans: continued to lose control over land in North America Slide 16: Before & After the French and Indian War Slide 17: Results of the war Colonists: acquired land to expand gained valuable military experience found their first “American” hero...George Washington learned how to cooperate Began to think of themselves as “Americans” and different than Great Britain Slide 18: Proclamation of 1763 King George III declared that the Appalachian Mountains were the western boundary for all colonies; colonists could not cross the mountains: separate the colonists from the Indians to prevent future wars and expenses Proclamation ANGERED colonist Slide 19: Proclamation of 1763', 'world-wide SUPER POWER grew resentful of colonial blundering and the cost of defending the colonies Slide 15: Results of the War French: lost almost all land in North America no longer important in American development Native Americans: continued to lose control over land in North America Slide 16: Before & After the French and Indian War Slide 17: Results of the war Colonists: acquired land to expand gained valuable military experience found their first “American” hero...George Washington learned how to cooperate Began to think of themselves as “Americans” and different than Great Britain Slide 18: Proclamation of 1763 King George III declared that the Appalachian Mountains were the western boundary for all colonies; colonists could not cross the mountains: separate the colonists from the Indians to prevent future wars and expenses Proclamation ANGERED colonist Slide 19: Proclamation of 1763', 'world-wide SUPER POWER grew resentful of colonial blundering and the cost of defending the colonies Slide 15: Results of the War French: lost almost all land in North America no longer important in American development Native Americans: continued to lose control over land in North America Slide 16: Before & After the French and Indian War Slide 17: Results of the war Colonists: acquired land to expand gained valuable military experience found their first “American” hero...George Washington learned how to cooperate Began to think of themselves as “Americans” and different than Great Britain Slide 18: Proclamation of 1763 King George III declared that the Appalachian Mountains were the western boundary for all colonies; colonists could not cross the mountains: separate the colonists from the Indians to prevent future wars and expenses Proclamation ANGERED colonist Slide 19: Proclamation of 1763', 'world-wide SUPER POWER grew resentful of colonial blundering and the cost of defending the colonies Slide 15: Results of the War French: lost almost all land in North America no longer important in American development Native Americans: continued to lose control over land in North America Slide 16: Before & After the French and Indian War Slide 17: Results of the war Colonists: acquired land to expand gained valuable military experience found their first “American” hero...George Washington learned how to cooperate Began to think of themselves as “Americans” and different than Great Britain Slide 18: Proclamation of 1763 King George III declared that the Appalachian Mountains were the western boundary for all colonies; colonists could not cross the mountains: separate the colonists from the Indians to prevent future wars and expenses Proclamation ANGERED colonist Slide 19: Proclamation of 1763', 'world-wide SUPER POWER grew resentful of colonial blundering and the cost of defending the colonies Slide 15: Results of the War French: lost almost all land in North America no longer important in American development Native Americans: continued to lose control over land in North America Slide 16: Before & After the French and Indian War Slide 17: Results of the war Colonists: acquired land to expand gained valuable military experience found their first “American” hero...George Washington learned how to cooperate Began to think of themselves as “Americans” and different than Great Britain Slide 18: Proclamation of 1763 King George III declared that the Appalachian Mountains were the western boundary for all colonies; colonists could not cross the mountains: separate the colonists from the Indians to prevent future wars and expenses Proclamation ANGERED colonist Slide 19: Proclamation of 1763'],)\n",
      "metadata: {'file_path': '.data/French and Indian War.pptx', 'file_name': 'French and Indian War.pptx', 'file_type': 'pptx', 'file_size': 11358731, 'processing_method': 'lightweight_pptx'}\n",
      "chunk_count: (11,)\n",
      "file_name: French and Indian War.pptx\n"
     ]
    }
   ],
   "source": [
    "from api.rag_lightweight import DocumentProcessor\n",
    "FILE_PATH = \".data/French and Indian War.pptx\"\n",
    "\n",
    "try:\n",
    "    # Process PDF using docling\n",
    "    pdf_processor = DocumentProcessor()\n",
    "    processed_data = pdf_processor.process_document(FILE_PATH)\n",
    "    \n",
    "    chunks=processed_data[\"chunks\"],\n",
    "    metadata=processed_data[\"metadata\"]\n",
    "    chunk_count=processed_data[\"chunk_count\"],\n",
    "    file_name=processed_data[\"metadata\"][\"file_name\"]\n",
    "    print(f\"first 5 chunks: {chunks[:5]}\")\n",
    "    print(f\"metadata: {metadata}\")\n",
    "    print(f\"chunk_count: {chunk_count}\")\n",
    "    print(f\"file_name: {file_name}\")\n",
    "    \n",
    "except Exception as e:\n",
    "    print(f\"Error in PDF upload: {str(e)}\")"
   ]
  },
  {
   "cell_type": "markdown",
   "id": "7914115d",
   "metadata": {},
   "source": [
    "## Process a DOCX"
   ]
  },
  {
   "cell_type": "code",
   "execution_count": 6,
   "id": "ec770c56",
   "metadata": {},
   "outputs": [
    {
     "name": "stdout",
     "output_type": "stream",
     "text": [
      "Processing DOCX document: Physics Vocabulary Glossary.docx (0.8MB)\n",
      "Extracted text length: 1973 characters\n",
      "Created 10 chunks\n",
      "first 5 chunks: (['Vocabulary Term | Definition | Image Acceleration | The rate at which velocity changes. Applied force | An applied force is a force that is applied to an object by a person or another object. Balanced force | A force that occurs when two or more forces of equal magnitude act on an object in opposite directions, causing their effects to cancel each other out. The net force is 0 N Force | A push or pull exerted on an object Friction | The force that two surfaces exert on each other when they rub against each other. Frictionless | A situation where there is no resistance or opposition to motion between two surfaces. Gravity | The attractive force between objects; the force that moves objects downhill. Gravitational constant | The physical constant denoted by G and used in calculating the gravitational attraction between two objects. Inertia | The tendency of an object to resist a change in motion. Law of action-reaction Aka Law of Forced pairs | Third law states that for every action (force) in nature there is an equal and opposite reaction. Law of force & acceleration Newton’s 2nd Law of Motion | Second law defines a force to be equal to change in momentum (mass times velocity) per change in time Law of Inertia | Newton’s first law states that every object will remain at rest or in uniform motion in a straight line unless compelled to change its state by the action of an external force. Mass | The amount matter in an object. Motion | The state in which one object’s distance from another is changing. Newton (N) | A unit of measure that equals the force required to accelerate 1 kilogram of mass at 1 meter per second. Net force | The overall force on an object when all the individual forces acting on it are added together. Speed | The distance an object travels per unit of time. Unbalanced force | A net external force that is not equal in magnitude or opposite in direction to other forces acting on an object, resulting in a non-zero net force.', 'and opposite reaction. Law of force & acceleration Newton’s 2nd Law of Motion | Second law defines a force to be equal to change in momentum (mass times velocity) per change in time Law of Inertia | Newton’s first law states that every object will remain at rest or in uniform motion in a straight line unless compelled to change its state by the action of an external force. Mass | The amount matter in an object. Motion | The state in which one object’s distance from another is changing. Newton (N) | A unit of measure that equals the force required to accelerate 1 kilogram of mass at 1 meter per second. Net force | The overall force on an object when all the individual forces acting on it are added together. Speed | The distance an object travels per unit of time. Unbalanced force | A net external force that is not equal in magnitude or opposite in direction to other forces acting on an object, resulting in a non-zero net force.', 'and opposite reaction. Law of force & acceleration Newton’s 2nd Law of Motion | Second law defines a force to be equal to change in momentum (mass times velocity) per change in time Law of Inertia | Newton’s first law states that every object will remain at rest or in uniform motion in a straight line unless compelled to change its state by the action of an external force. Mass | The amount matter in an object. Motion | The state in which one object’s distance from another is changing. Newton (N) | A unit of measure that equals the force required to accelerate 1 kilogram of mass at 1 meter per second. Net force | The overall force on an object when all the individual forces acting on it are added together. Speed | The distance an object travels per unit of time. Unbalanced force | A net external force that is not equal in magnitude or opposite in direction to other forces acting on an object, resulting in a non-zero net force.', 'and opposite reaction. Law of force & acceleration Newton’s 2nd Law of Motion | Second law defines a force to be equal to change in momentum (mass times velocity) per change in time Law of Inertia | Newton’s first law states that every object will remain at rest or in uniform motion in a straight line unless compelled to change its state by the action of an external force. Mass | The amount matter in an object. Motion | The state in which one object’s distance from another is changing. Newton (N) | A unit of measure that equals the force required to accelerate 1 kilogram of mass at 1 meter per second. Net force | The overall force on an object when all the individual forces acting on it are added together. Speed | The distance an object travels per unit of time. Unbalanced force | A net external force that is not equal in magnitude or opposite in direction to other forces acting on an object, resulting in a non-zero net force.', 'and opposite reaction. Law of force & acceleration Newton’s 2nd Law of Motion | Second law defines a force to be equal to change in momentum (mass times velocity) per change in time Law of Inertia | Newton’s first law states that every object will remain at rest or in uniform motion in a straight line unless compelled to change its state by the action of an external force. Mass | The amount matter in an object. Motion | The state in which one object’s distance from another is changing. Newton (N) | A unit of measure that equals the force required to accelerate 1 kilogram of mass at 1 meter per second. Net force | The overall force on an object when all the individual forces acting on it are added together. Speed | The distance an object travels per unit of time. Unbalanced force | A net external force that is not equal in magnitude or opposite in direction to other forces acting on an object, resulting in a non-zero net force.', 'and opposite reaction. Law of force & acceleration Newton’s 2nd Law of Motion | Second law defines a force to be equal to change in momentum (mass times velocity) per change in time Law of Inertia | Newton’s first law states that every object will remain at rest or in uniform motion in a straight line unless compelled to change its state by the action of an external force. Mass | The amount matter in an object. Motion | The state in which one object’s distance from another is changing. Newton (N) | A unit of measure that equals the force required to accelerate 1 kilogram of mass at 1 meter per second. Net force | The overall force on an object when all the individual forces acting on it are added together. Speed | The distance an object travels per unit of time. Unbalanced force | A net external force that is not equal in magnitude or opposite in direction to other forces acting on an object, resulting in a non-zero net force.', 'and opposite reaction. Law of force & acceleration Newton’s 2nd Law of Motion | Second law defines a force to be equal to change in momentum (mass times velocity) per change in time Law of Inertia | Newton’s first law states that every object will remain at rest or in uniform motion in a straight line unless compelled to change its state by the action of an external force. Mass | The amount matter in an object. Motion | The state in which one object’s distance from another is changing. Newton (N) | A unit of measure that equals the force required to accelerate 1 kilogram of mass at 1 meter per second. Net force | The overall force on an object when all the individual forces acting on it are added together. Speed | The distance an object travels per unit of time. Unbalanced force | A net external force that is not equal in magnitude or opposite in direction to other forces acting on an object, resulting in a non-zero net force.', 'and opposite reaction. Law of force & acceleration Newton’s 2nd Law of Motion | Second law defines a force to be equal to change in momentum (mass times velocity) per change in time Law of Inertia | Newton’s first law states that every object will remain at rest or in uniform motion in a straight line unless compelled to change its state by the action of an external force. Mass | The amount matter in an object. Motion | The state in which one object’s distance from another is changing. Newton (N) | A unit of measure that equals the force required to accelerate 1 kilogram of mass at 1 meter per second. Net force | The overall force on an object when all the individual forces acting on it are added together. Speed | The distance an object travels per unit of time. Unbalanced force | A net external force that is not equal in magnitude or opposite in direction to other forces acting on an object, resulting in a non-zero net force.', 'and opposite reaction. Law of force & acceleration Newton’s 2nd Law of Motion | Second law defines a force to be equal to change in momentum (mass times velocity) per change in time Law of Inertia | Newton’s first law states that every object will remain at rest or in uniform motion in a straight line unless compelled to change its state by the action of an external force. Mass | The amount matter in an object. Motion | The state in which one object’s distance from another is changing. Newton (N) | A unit of measure that equals the force required to accelerate 1 kilogram of mass at 1 meter per second. Net force | The overall force on an object when all the individual forces acting on it are added together. Speed | The distance an object travels per unit of time. Unbalanced force | A net external force that is not equal in magnitude or opposite in direction to other forces acting on an object, resulting in a non-zero net force.', 'and opposite reaction. Law of force & acceleration Newton’s 2nd Law of Motion | Second law defines a force to be equal to change in momentum (mass times velocity) per change in time Law of Inertia | Newton’s first law states that every object will remain at rest or in uniform motion in a straight line unless compelled to change its state by the action of an external force. Mass | The amount matter in an object. Motion | The state in which one object’s distance from another is changing. Newton (N) | A unit of measure that equals the force required to accelerate 1 kilogram of mass at 1 meter per second. Net force | The overall force on an object when all the individual forces acting on it are added together. Speed | The distance an object travels per unit of time. Unbalanced force | A net external force that is not equal in magnitude or opposite in direction to other forces acting on an object, resulting in a non-zero net force.'],)\n",
      "metadata: {'file_path': '.data/Physics Vocabulary Glossary.docx', 'file_name': 'Physics Vocabulary Glossary.docx', 'file_type': 'docx', 'file_size': 844105, 'processing_method': 'lightweight_docx'}\n",
      "chunk_count: (10,)\n",
      "file_name: Physics Vocabulary Glossary.docx\n"
     ]
    }
   ],
   "source": [
    "from api.rag_lightweight import DocumentProcessor\n",
    "FILE_PATH = \".data/Physics Vocabulary Glossary.docx\"\n",
    "\n",
    "try:\n",
    "    # Process PDF using docling\n",
    "    pdf_processor = DocumentProcessor()\n",
    "    processed_data = pdf_processor.process_document(FILE_PATH)\n",
    "    \n",
    "    chunks=processed_data[\"chunks\"],\n",
    "    metadata=processed_data[\"metadata\"]\n",
    "    chunk_count=processed_data[\"chunk_count\"],\n",
    "    file_name=processed_data[\"metadata\"][\"file_name\"]\n",
    "    print(f\"first 5 chunks: {chunks[:5]}\")\n",
    "    print(f\"metadata: {metadata}\")\n",
    "    print(f\"chunk_count: {chunk_count}\")\n",
    "    print(f\"file_name: {file_name}\")\n",
    "    \n",
    "except Exception as e:\n",
    "    print(f\"Error in PDF upload: {str(e)}\")"
   ]
  }
 ],
 "metadata": {
  "kernelspec": {
   "display_name": ".venv",
   "language": "python",
   "name": "python3"
  },
  "language_info": {
   "codemirror_mode": {
    "name": "ipython",
    "version": 3
   },
   "file_extension": ".py",
   "mimetype": "text/x-python",
   "name": "python",
   "nbconvert_exporter": "python",
   "pygments_lexer": "ipython3",
   "version": "3.13.3"
  }
 },
 "nbformat": 4,
 "nbformat_minor": 5
}
